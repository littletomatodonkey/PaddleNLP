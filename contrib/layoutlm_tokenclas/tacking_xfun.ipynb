{
 "cells": [
  {
   "cell_type": "code",
   "execution_count": 8,
   "metadata": {},
   "outputs": [
    {
     "name": "stderr",
     "output_type": "stream",
     "text": [
      "Corrupt JPEG data: premature end of data segment\n"
     ]
    },
    {
     "name": "stdout",
     "output_type": "stream",
     "text": [
      "ok\n"
     ]
    }
   ],
   "source": [
    "import os, sys\n",
    "import json\n",
    "import cv2\n",
    "import numpy as np\n",
    "lang = \"zh\"\n",
    "mode = \"val\"\n",
    "label_mode = \"test\"\n",
    "\n",
    "# mode = \"train\"\n",
    "# label_mode = \"train\"\n",
    "\n",
    "max_norm_size = 1000\n",
    "set_path = \"./data/XFUN_v1.0_data/\" + lang + \"/\"\n",
    "label_path = set_path + lang + \".\" + mode + \".json\"\n",
    "img_set_path = set_path + mode + \"/\"\n",
    "label_set_dict = {}\n",
    "\n",
    "save_label_path = set_path + label_mode + \".txt\"\n",
    "save_label_bbox_path = set_path + label_mode + \"_box.txt\"\n",
    "save_label_image_path = set_path + label_mode + \"_image.txt\"\n",
    "save_label_map_path = set_path + \"labels.txt\"\n",
    "foutl = open(save_label_path, \"wb\")\n",
    "foutb = open(save_label_bbox_path, \"wb\")\n",
    "fouti = open(save_label_image_path, \"wb\")\n",
    "foutlm = open(save_label_map_path, \"wb\")\n",
    "\n",
    "def get_norm_resize_bbox(box, img_height, img_width, max_norm_size=1000):\n",
    "    im_size_max = max(img_height, img_width)\n",
    "    im_scale = float(max_norm_size) / float(im_size_max)\n",
    "    box = np.array(box) * im_scale\n",
    "    box = [int(np.round(i)) for i in box]\n",
    "    return box\n",
    "\n",
    "with open(label_path, \"rb\") as fin:\n",
    "    lines = fin.readlines()\n",
    "    label_data = json.loads(lines[0])['documents']\n",
    "    sample_num = len(label_data)\n",
    "    for sno in range(sample_num):\n",
    "        img_id = label_data[sno]['id']\n",
    "        document = label_data[sno]['document']\n",
    "        bbox_num = len(document)\n",
    "        img_path = img_set_path + img_id + \".jpg\"\n",
    "        img = cv2.imread(img_path)\n",
    "        img_height, img_width = img.shape[0:2]\n",
    "        for bno in range(bbox_num):\n",
    "            bbox = document[bno]['box']\n",
    "            label = document[bno]['label']\n",
    "            text = document[bno]['text']\n",
    "            if label == \"other\":\n",
    "                label = \"O\"\n",
    "            otstr = text + \"\\t\" + label + \"\\n\"\n",
    "            foutl.write(otstr.encode('utf-8'))\n",
    "            \n",
    "            otstr = \"%s\\t%d %d %d %d\\t%d %d\\t%s\\n\" % (\n",
    "                text, bbox[0], bbox[1], bbox[2], bbox[3],\n",
    "                img_width, img_height, img_path)\n",
    "            fouti.write(otstr.encode('utf-8'))\n",
    "\n",
    "            bbox = get_norm_resize_bbox(bbox, img_height, img_width, max_norm_size)\n",
    "            otstr = \"%s\\t%d %d %d %d\\n\" % (\n",
    "                text, bbox[0], bbox[1], bbox[2], bbox[3])\n",
    "            foutb.write(otstr.encode('utf-8'))\n",
    "\n",
    "            label_set_dict[label] = 0\n",
    "        otstr = \"\\n\"\n",
    "        foutl.write(otstr.encode('utf-8'))\n",
    "        foutb.write(otstr.encode('utf-8'))\n",
    "        fouti.write(otstr.encode('utf-8'))\n",
    "\n",
    "for label in label_set_dict:\n",
    "    otstr = \"%s\\n\" % label\n",
    "    foutlm.write(otstr.encode('utf-8'))\n",
    "foutl.close()\n",
    "foutb.close()\n",
    "fouti.close()\n",
    "foutlm.close()\n",
    "print(\"ok\")"
   ]
  },
  {
   "cell_type": "code",
   "execution_count": null,
   "metadata": {},
   "outputs": [],
   "source": []
  }
 ],
 "metadata": {
  "kernelspec": {
   "display_name": "Python 3 (ipykernel)",
   "language": "python",
   "name": "python3"
  },
  "language_info": {
   "codemirror_mode": {
    "name": "ipython",
    "version": 3
   },
   "file_extension": ".py",
   "mimetype": "text/x-python",
   "name": "python",
   "nbconvert_exporter": "python",
   "pygments_lexer": "ipython3",
   "version": "3.7.0"
  }
 },
 "nbformat": 4,
 "nbformat_minor": 4
}
