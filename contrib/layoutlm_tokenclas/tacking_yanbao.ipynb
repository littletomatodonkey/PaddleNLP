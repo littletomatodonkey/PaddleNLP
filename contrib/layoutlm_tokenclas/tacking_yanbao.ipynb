{
 "cells": [
  {
   "cell_type": "code",
   "execution_count": 1,
   "metadata": {},
   "outputs": [],
   "source": [
    "import os, sys\n",
    "import json\n",
    "import cv2\n",
    "import numpy as np\n",
    "\n",
    "def gen_funds_format():\n",
    "    set_path = \"./data/yanbao_v1/\"\n",
    "    img_set_path = set_path + \"研报JPEG/\"\n",
    "    max_norm_size = 1000\n",
    "    input_path = img_set_path\n",
    "    file_paths = []\n",
    "    if os.path.isfile(input_path):\n",
    "        file_paths.append(input_path)\n",
    "    else:\n",
    "        for root, _, fs in os.walk(input_path):\n",
    "            for f in fs:\n",
    "                file_paths.append(os.path.join(root, f))\n",
    "    print(len(file_paths), file_paths[:5])\n",
    "\n",
    "    save_label_bbox_path = set_path + \"yanbao_v1_box.txt\"\n",
    "    save_label_image_path = set_path + \"yanbao_v1_image.txt\"\n",
    "    foutb = open(save_label_bbox_path, \"wb\")\n",
    "    fouti = open(save_label_image_path, \"wb\")\n",
    "\n",
    "    def get_norm_resize_bbox(box, img_height, img_width, max_norm_size=1000):\n",
    "        im_size_max = max(img_height, img_width)\n",
    "        im_scale = float(max_norm_size) / float(im_size_max)\n",
    "        box = np.array(box) * im_scale\n",
    "        box = [int(np.round(i)) for i in box]\n",
    "        return box\n",
    "\n",
    "    for fno in range(len(file_paths)):\n",
    "        if fno % 100 == 0:\n",
    "            print(fno, len(file_paths))\n",
    "        img_path = file_paths[fno]\n",
    "        if 'DS_Store' in img_path:\n",
    "            continue\n",
    "        img = cv2.imread(img_path)\n",
    "        img_height, img_width = img.shape[0:2]\n",
    "        ocr_res_path = img_path.replace('研报JPEG', 'result') + \".txt\"\n",
    "        with open(ocr_res_path, \"rb\") as fin:\n",
    "            lines = fin.readlines()\n",
    "            bbox_num = len(lines)\n",
    "            for bno in range(bbox_num):\n",
    "                line = lines[bno].decode('utf-8').strip(\"\\n\").split(\",\")\n",
    "                bbox_4pts = [float(x) for x in line[0:8]]\n",
    "                left = min(bbox_4pts[::2])\n",
    "                right = max(bbox_4pts[::2])\n",
    "                top = min(bbox_4pts[1::2])\n",
    "                bottom = max(bbox_4pts[1::2])\n",
    "                bbox = [left, top, right, bottom]\n",
    "                text = line[8]\n",
    "                otstr = \"%s\\t%d %d %d %d\\t%d %d\\t%s\\n\" % (\n",
    "                    text, bbox[0], bbox[1], bbox[2], bbox[3],\n",
    "                    img_width, img_height, img_path)\n",
    "                fouti.write(otstr.encode('utf-8'))\n",
    "\n",
    "                bbox = get_norm_resize_bbox(bbox, img_height, img_width, max_norm_size)\n",
    "                otstr = \"%s\\t%d %d %d %d\\n\" % (\n",
    "                    text, bbox[0], bbox[1], bbox[2], bbox[3])\n",
    "                foutb.write(otstr.encode('utf-8')) \n",
    "            otstr = \"\\n\"\n",
    "            foutb.write(otstr.encode('utf-8'))\n",
    "            fouti.write(otstr.encode('utf-8'))\n",
    "\n",
    "    foutb.close()\n",
    "    fouti.close()\n",
    "    print(\"ok\")\n",
    "# gen_funds_format()"
   ]
  },
  {
   "cell_type": "code",
   "execution_count": 1,
   "metadata": {},
   "outputs": [
    {
     "name": "stderr",
     "output_type": "stream",
     "text": [
      "grep: warning: GREP_OPTIONS is deprecated; please use an alias or script\n",
      "/usr/local/lib/python3.7/site-packages/scipy/stats/morestats.py:12: DeprecationWarning: Importing from numpy.testing.decorators is deprecated since numpy 1.15.0, import from numpy.testing instead.\n",
      "  from numpy.testing.decorators import setastest\n",
      "\u001b[32m[2021-09-06 09:27:20,574] [    INFO]\u001b[0m - Already cached ./.paddlenlp/models/ernie-gram-zh/vocab.txt\u001b[0m\n"
     ]
    },
    {
     "name": "stdout",
     "output_type": "stream",
     "text": [
      "saving data\n",
      "5\n",
      "(161210, 512)\n",
      "(161210, 1, 512)\n",
      "(161210, 512, 4)\n",
      "(161210, 20)\n",
      "(161210, 20)\n",
      "ok\n"
     ]
    }
   ],
   "source": [
    "import os, sys\n",
    "# from create_pretrain_data import gen_nlpbert_format, read_features_h5py_to_np\n",
    "# from create_pretrain_data import write_features_np_to_h5py\n",
    "from create_pretrain_data import merge_h5py\n",
    "import numpy as np\n",
    "# gen_nlpbert_format(total_num=12, cur_no=2)\n",
    "\n",
    "# set_path = \"./data/yanbao_v1/\"\n",
    "# input_file = set_path + \"yanbao_v1_train.h5.%d\" % (0)\n",
    "# inputs = read_features_h5py_to_np(input_file)\n",
    "# print(len(inputs))\n",
    "# for tmp in inputs:\n",
    "#     print(tmp.shape)\n",
    "\n",
    "merge_h5py()"
   ]
  },
  {
   "cell_type": "code",
   "execution_count": null,
   "metadata": {},
   "outputs": [],
   "source": []
  }
 ],
 "metadata": {
  "kernelspec": {
   "display_name": "Python 3 (ipykernel)",
   "language": "python",
   "name": "python3"
  },
  "language_info": {
   "codemirror_mode": {
    "name": "ipython",
    "version": 3
   },
   "file_extension": ".py",
   "mimetype": "text/x-python",
   "name": "python",
   "nbconvert_exporter": "python",
   "pygments_lexer": "ipython3",
   "version": "3.7.0"
  }
 },
 "nbformat": 4,
 "nbformat_minor": 4
}
